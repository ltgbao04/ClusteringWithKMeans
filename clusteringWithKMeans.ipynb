{
 "cells": [
  {
   "cell_type": "code",
   "execution_count": null,
   "metadata": {},
   "outputs": [],
   "source": [
    "import pandas as pd\n",
    "import numpy as np\n",
    "import seaborn as sns\n",
    "from sklearn.model_selection import train_test_split, cross_val_score\n",
    "from sklearn.preprocessing import OneHotEncoder\n",
    "from sklearn.impute import SimpleImputer\n",
    "from sklearn.cluster import KMeans\n",
    "from xgboost import XGBRegressor\n",
    "\n",
    "# pd.set_option('display.max_columns', 500)\n",
    "df = pd.read_csv('data/autos.csv')\n",
    "\n",
    "X = df.copy()\n",
    "y = df['price']\n",
    "\n",
    "X_train, X_valid, y_train, y_valid = train_test_split(X, y, train_size=0.8, test_size=0.2, random_state=0)"
   ]
  },
  {
   "cell_type": "code",
   "execution_count": null,
   "metadata": {},
   "outputs": [],
   "source": [
    "def score_dataset(X, y, model=XGBRegressor()):\n",
    "    for col in X.select_dtypes(['category', 'object']):\n",
    "        X[col], _ = X[col].factorize()\n",
    "    score = cross_val_score(model, X, y, cv=5, scoring='neg_mean_squared_log_error')\n",
    "    score = -1*score.mean()\n",
    "    score = np.sqrt(score)\n",
    "    return score"
   ]
  },
  {
   "cell_type": "markdown",
   "metadata": {},
   "source": [
    "Preprocess"
   ]
  },
  {
   "cell_type": "code",
   "execution_count": null,
   "metadata": {},
   "outputs": [],
   "source": [
    "#cat cols \n",
    "object_cols = [col for col in X_train.columns if X_train[col].dtype=='object']\n",
    "oh_enc = OneHotEncoder(handle_unknown='ignore', sparse_output=False)\n",
    "oh_X_train = pd.DataFrame(oh_enc.fit_transform(X_train[object_cols]))\n",
    "oh_X_valid = pd.DataFrame(oh_enc.transform(X_valid[object_cols]))\n",
    "\n",
    "oh_X_train.index = X_train[object_cols].index\n",
    "oh_X_valid.index = X_valid[object_cols].index\n",
    "\n",
    "X_train = X_train.select_dtypes(exclude='object')\n",
    "X_valid = X_valid.select_dtypes(exclude='object')\n",
    "\n",
    "X_train = X_train.join(oh_X_train)\n",
    "X_valid = X_valid.join(oh_X_valid)\n",
    "\n",
    "X_train.columns = X_train.columns.astype(str)\n",
    "X_valid.columns = X_valid.columns.astype(str)\n",
    "\n",
    "#num cols\n",
    "my_imp = SimpleImputer(strategy='median')\n",
    "\n",
    "xtraincol = X_train.columns\n",
    "xvalidcol = X_valid.columns\n",
    "\n",
    "X_train = pd.DataFrame(my_imp.fit_transform(X_train))\n",
    "X_valid = pd.DataFrame(my_imp.transform(X_valid))\n",
    "\n",
    "X_train.columns = xtraincol\n",
    "X_valid.columns = xvalidcol"
   ]
  },
  {
   "cell_type": "markdown",
   "metadata": {},
   "source": [
    "Clustering"
   ]
  },
  {
   "cell_type": "code",
   "execution_count": null,
   "metadata": {},
   "outputs": [],
   "source": [
    "feature = ['peak_rpm', 'engine_size', 'horsepower', 'length']\n",
    "\n",
    "kmeans = KMeans(n_clusters=5, n_init=10, random_state=0)\n",
    "X['Cluster'] = kmeans.fit_predict(X[feature])\n",
    "X['Cluster'] = X['Cluster'].astype('category')\n",
    "\n",
    "Xy = X.copy()\n",
    "Xy['price'] = y \n",
    "sns.relplot(x='value', y='price', hue='Cluster', col='variable',\n",
    "            height=4, aspect=1, facet_kws={'sharex':False}, col_wrap=3, data=Xy.melt(value_vars=feature, id_vars=['price', 'Cluster'],))"
   ]
  }
 ],
 "metadata": {
  "kernelspec": {
   "display_name": "Python 3",
   "language": "python",
   "name": "python3"
  },
  "language_info": {
   "codemirror_mode": {
    "name": "ipython",
    "version": 3
   },
   "file_extension": ".py",
   "mimetype": "text/x-python",
   "name": "python",
   "nbconvert_exporter": "python",
   "pygments_lexer": "ipython3",
   "version": "3.11.3"
  },
  "orig_nbformat": 4
 },
 "nbformat": 4,
 "nbformat_minor": 2
}
